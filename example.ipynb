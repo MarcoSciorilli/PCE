{
 "cells": [
  {
   "cell_type": "code",
   "id": "378b0275",
   "metadata": {
    "ExecuteTime": {
     "end_time": "2024-08-20T09:39:24.208085Z",
     "start_time": "2024-08-20T09:39:19.824946Z"
    }
   },
   "source": [
    "import src as vq\n",
    "import networkx as nx"
   ],
   "outputs": [
    {
     "name": "stderr",
     "output_type": "stream",
     "text": [
      "2024-08-20 11:39:20.986009: E external/local_xla/xla/stream_executor/cuda/cuda_fft.cc:485] Unable to register cuFFT factory: Attempting to register factory for plugin cuFFT when one has already been registered\n",
      "2024-08-20 11:39:21.001270: E external/local_xla/xla/stream_executor/cuda/cuda_dnn.cc:8454] Unable to register cuDNN factory: Attempting to register factory for plugin cuDNN when one has already been registered\n",
      "2024-08-20 11:39:21.005864: E external/local_xla/xla/stream_executor/cuda/cuda_blas.cc:1452] Unable to register cuBLAS factory: Attempting to register factory for plugin cuBLAS when one has already been registered\n",
      "2024-08-20 11:39:21.016947: I tensorflow/core/platform/cpu_feature_guard.cc:210] This TensorFlow binary is optimized to use available CPU instructions in performance-critical operations.\n",
      "To enable the following instructions: AVX2 FMA, in other operations, rebuild TensorFlow with the appropriate compiler flags.\n",
      "2024-08-20 11:39:21.974139: W tensorflow/compiler/tf2tensorrt/utils/py_utils.cc:38] TF-TRT Warning: Could not find TensorRT\n"
     ]
    }
   ],
   "execution_count": 1
  },
  {
   "cell_type": "code",
   "id": "ec40480b",
   "metadata": {
    "ExecuteTime": {
     "end_time": "2024-08-20T09:39:24.221378Z",
     "start_time": "2024-08-20T09:39:24.211596Z"
    }
   },
   "source": [
    "# Define the instance set as a dictionary in which the keys are the instances names, and the items are\n",
    "# the graph given as networkx graph\n",
    "graph = nx.read_weighted_edgelist('G11')\n",
    "graph_dic = {'G11': graph}"
   ],
   "outputs": [],
   "execution_count": 2
  },
  {
   "cell_type": "code",
   "id": "e02c26e5",
   "metadata": {
    "ExecuteTime": {
     "end_time": "2024-08-20T09:39:24.447054Z",
     "start_time": "2024-08-20T09:39:24.317656Z"
    }
   },
   "source": [
    "# Initialize the dataset to store the training data\n",
    "vq.utilities.initialize_database('G11')"
   ],
   "outputs": [
    {
     "ename": "OperationalError",
     "evalue": "table G11 already exists",
     "output_type": "error",
     "traceback": [
      "\u001B[0;31m---------------------------------------------------------------------------\u001B[0m",
      "\u001B[0;31mOperationalError\u001B[0m                          Traceback (most recent call last)",
      "Cell \u001B[0;32mIn[3], line 2\u001B[0m\n\u001B[1;32m      1\u001B[0m \u001B[38;5;66;03m# Initialize the dataset to store the training data\u001B[39;00m\n\u001B[0;32m----> 2\u001B[0m \u001B[43mvq\u001B[49m\u001B[38;5;241;43m.\u001B[39;49m\u001B[43mutilities\u001B[49m\u001B[38;5;241;43m.\u001B[39;49m\u001B[43minitialize_database\u001B[49m\u001B[43m(\u001B[49m\u001B[38;5;124;43m'\u001B[39;49m\u001B[38;5;124;43mG11\u001B[39;49m\u001B[38;5;124;43m'\u001B[39;49m\u001B[43m)\u001B[49m\n",
      "File \u001B[0;32m~/PycharmProjects/PCE/src/utilities.py:42\u001B[0m, in \u001B[0;36minitialize_database\u001B[0;34m(name_database)\u001B[0m\n\u001B[1;32m     37\u001B[0m unique \u001B[38;5;241m=\u001B[39m [\u001B[38;5;124m'\u001B[39m\u001B[38;5;124mkind\u001B[39m\u001B[38;5;124m'\u001B[39m, \u001B[38;5;124m'\u001B[39m\u001B[38;5;124minstance\u001B[39m\u001B[38;5;124m'\u001B[39m, \u001B[38;5;124m'\u001B[39m\u001B[38;5;124mlayer_number\u001B[39m\u001B[38;5;124m'\u001B[39m, \u001B[38;5;124m'\u001B[39m\u001B[38;5;124mspins_number\u001B[39m\u001B[38;5;124m'\u001B[39m, \u001B[38;5;124m'\u001B[39m\u001B[38;5;124moptimization\u001B[39m\u001B[38;5;124m'\u001B[39m, \u001B[38;5;124m'\u001B[39m\u001B[38;5;124mcompression\u001B[39m\u001B[38;5;124m'\u001B[39m, \u001B[38;5;124m'\u001B[39m\u001B[38;5;124mhyperparameter\u001B[39m\u001B[38;5;124m'\u001B[39m,\n\u001B[1;32m     38\u001B[0m           \u001B[38;5;124m'\u001B[39m\u001B[38;5;124mpauli_string_length\u001B[39m\u001B[38;5;124m'\u001B[39m,\n\u001B[1;32m     39\u001B[0m           \u001B[38;5;124m'\u001B[39m\u001B[38;5;124mconnectivity\u001B[39m\u001B[38;5;124m'\u001B[39m, \u001B[38;5;124m'\u001B[39m\u001B[38;5;124mgraph_kind\u001B[39m\u001B[38;5;124m'\u001B[39m, \u001B[38;5;124m'\u001B[39m\u001B[38;5;124mtrial\u001B[39m\u001B[38;5;124m'\u001B[39m, \u001B[38;5;124m'\u001B[39m\u001B[38;5;124mactivation_function\u001B[39m\u001B[38;5;124m'\u001B[39m, \u001B[38;5;124m'\u001B[39m\u001B[38;5;124mloss_name\u001B[39m\u001B[38;5;124m'\u001B[39m, \u001B[38;5;124m'\u001B[39m\u001B[38;5;124mentanglement\u001B[39m\u001B[38;5;124m'\u001B[39m, \u001B[38;5;124m'\u001B[39m\u001B[38;5;124mconnectivity\u001B[39m\u001B[38;5;124m'\u001B[39m,\n\u001B[1;32m     40\u001B[0m           \u001B[38;5;124m'\u001B[39m\u001B[38;5;124mrotation\u001B[39m\u001B[38;5;124m'\u001B[39m, \u001B[38;5;124m'\u001B[39m\u001B[38;5;124mepochs\u001B[39m\u001B[38;5;124m'\u001B[39m, \u001B[38;5;124m'\u001B[39m\u001B[38;5;124mshots\u001B[39m\u001B[38;5;124m'\u001B[39m]\n\u001B[1;32m     41\u001B[0m connect_database(name_database)\n\u001B[0;32m---> 42\u001B[0m \u001B[43mcreate_table\u001B[49m\u001B[43m(\u001B[49m\u001B[43mname_database\u001B[49m\u001B[43m,\u001B[49m\u001B[43m \u001B[49m\u001B[43mname_database\u001B[49m\u001B[43m,\u001B[49m\u001B[43m \u001B[49m\u001B[43mrows\u001B[49m\u001B[43m,\u001B[49m\u001B[43m \u001B[49m\u001B[43munique\u001B[49m\u001B[43m)\u001B[49m\n",
      "File \u001B[0;32m~/PycharmProjects/PCE/src/datamanager.py:13\u001B[0m, in \u001B[0;36mcreate_table\u001B[0;34m(name_database, name_table, rows, unique)\u001B[0m\n\u001B[1;32m     11\u001B[0m string_creation \u001B[38;5;241m=\u001B[39m create_table_string(name_table, rows, unique)\n\u001B[1;32m     12\u001B[0m cursor \u001B[38;5;241m=\u001B[39m connection\u001B[38;5;241m.\u001B[39mcursor()\n\u001B[0;32m---> 13\u001B[0m \u001B[43mcursor\u001B[49m\u001B[38;5;241;43m.\u001B[39;49m\u001B[43mexecute\u001B[49m\u001B[43m(\u001B[49m\u001B[43mstring_creation\u001B[49m\u001B[43m)\u001B[49m\n\u001B[1;32m     14\u001B[0m cursor\u001B[38;5;241m.\u001B[39mclose()\n",
      "\u001B[0;31mOperationalError\u001B[0m: table G11 already exists"
     ]
    }
   ],
   "execution_count": 3
  },
  {
   "cell_type": "code",
   "id": "b755543c",
   "metadata": {
    "ExecuteTime": {
     "end_time": "2024-08-20T09:39:25.217226Z",
     "start_time": "2024-08-20T09:39:25.211593Z"
    }
   },
   "source": [
    "# Define the details of your benchmark:\n",
    "# method: exact or shots-simulation\n",
    "# kind: \"VQA\" if training, \"deployment\" for single run\n",
    "# trials: number of different initializations of the parameters\n",
    "# sping_number: number of vertices in the graph\n",
    "# starting/ending: fix the seed of the trials or instances, useful only if you are not feeding the graphs but make\n",
    "# the code generate them automatically at random\n",
    "# database_name: name of the database in which training data is going to be saved\n",
    "# graph_dict: dictionary with the graph instances\n",
    "# activation_function: currently not working, used to allow you to change activation function\n",
    "# hyperparameters: alpha, beta. In this order\n",
    "run = vq.dataretriver.Benchmarker(method='exact', kind='VQA', trials=10, spins_number=800,starting=70,\n",
    "                                  database_name='G11',graph_dict = graph_dic,\n",
    "                                  activation_function='tanh', hyperparameters=[60, 0.8])"
   ],
   "outputs": [],
   "execution_count": 4
  },
  {
   "cell_type": "code",
   "id": "9cb5e147",
   "metadata": {
    "ExecuteTime": {
     "end_time": "2024-08-20T09:39:25.559166Z",
     "start_time": "2024-08-20T09:39:25.555770Z"
    }
   },
   "source": [
    "# Define the circuit:\n",
    "# layer_number: numbers of layers as a list (format needed to parallelize over increasing depth)\n",
    "# entanglement: type of 2-qubit gates\n",
    "# rotation: type of 1 qubit gates\n",
    "# connectivity: connectivity topology\n",
    "# name_device: \"cpu\" or \"gpu\"\n",
    "# optimization: name of the optimizer\n",
    "# name_backend: name of the backend\n",
    "# name_library: name of the library\n",
    "run.set_circuit(layer_number=[157], entanglement='Taylor_efficient', rotation='Taylor_efficient',connectivity='brickwork_single_rotating', name_device='cpu', optimization=\"SLSQP\",name_backend ='numpy', name_library='qibo')"
   ],
   "outputs": [
    {
     "name": "stderr",
     "output_type": "stream",
     "text": [
      "[Qibo 0.2.11|INFO|2024-08-20 11:39:25]: Using numpy backend on /CPU:0\n"
     ]
    }
   ],
   "execution_count": 5
  },
  {
   "cell_type": "code",
   "id": "c3444eb3",
   "metadata": {
    "ExecuteTime": {
     "end_time": "2024-08-20T09:39:26.122621Z",
     "start_time": "2024-08-20T09:39:26.120105Z"
    }
   },
   "source": [
    "# Define the polinomial compression:\n",
    "# compression: order of the compression to be used\n",
    "# lower_order_terms: samelles order of compression to also use in the encoding (e.g. if compression is 3 and lower_order_terms is 2, all the 3 and 2 bodies pauli will be used\n",
    "# qubits: number of qubits (there is no check if you are using enought)\n",
    "run.set_encoding(compression=6, lower_order_terms=6, qubits=11)"
   ],
   "outputs": [],
   "execution_count": 6
  },
  {
   "cell_type": "code",
   "id": "766200c5",
   "metadata": {
    "ExecuteTime": {
     "end_time": "2024-08-20T09:39:26.946320Z",
     "start_time": "2024-08-20T09:39:26.933235Z"
    }
   },
   "source": [
    "# how to calculate the expectatin value: \"basis_rotation\" use sparse representations of the pauli and rotate the\n",
    "# measurement base\n",
    "run.set_expectations_method(expectation_method ='basis_rotation')"
   ],
   "outputs": [],
   "execution_count": 7
  },
  {
   "cell_type": "code",
   "id": "f19cf387",
   "metadata": {
    "jupyter": {
     "is_executing": true
    },
    "ExecuteTime": {
     "start_time": "2024-08-20T09:39:27.459756Z"
    }
   },
   "source": [
    "# Set the multiprosessing:\n",
    "# multiprocessing: True or False, if parallel or serial\n",
    "# update: whether or not save data mid-optimization\n",
    "run.run(multiprocessing=False,  update=False)"
   ],
   "outputs": [
    {
     "name": "stderr",
     "output_type": "stream",
     "text": [
      "[Qibo 0.2.11|INFO|2024-08-20 11:39:27]: Using numpy backend on /CPU:0\n"
     ]
    }
   ],
   "execution_count": null
  },
  {
   "metadata": {},
   "cell_type": "code",
   "outputs": [],
   "execution_count": null,
   "source": "",
   "id": "3560d443b1490947"
  }
 ],
 "metadata": {
  "kernelspec": {
   "display_name": "Python 3 (ipykernel)",
   "language": "python",
   "name": "python3"
  },
  "language_info": {
   "codemirror_mode": {
    "name": "ipython",
    "version": 3
   },
   "file_extension": ".py",
   "mimetype": "text/x-python",
   "name": "python",
   "nbconvert_exporter": "python",
   "pygments_lexer": "ipython3",
   "version": "3.10.12"
  }
 },
 "nbformat": 4,
 "nbformat_minor": 5
}
